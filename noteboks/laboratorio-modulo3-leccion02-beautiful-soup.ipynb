{
 "cells": [
  {
   "cell_type": "code",
   "execution_count": 1,
   "metadata": {},
   "outputs": [],
   "source": [
    "# Importamos las librerías que necesitamos\n",
    "\n",
    "# Librerías de extracción de datos\n",
    "# -----------------------------------------------------------------------\n",
    "from bs4 import BeautifulSoup\n",
    "import requests\n",
    "import sys\n",
    "\n",
    "sys.path.append(\"../\")\n",
    "from src import soporte as sp\n",
    "# Tratamiento de datos\n",
    "# -----------------------------------------------------------------------\n",
    "import pandas as pd"
   ]
  },
  {
   "cell_type": "markdown",
   "metadata": {},
   "source": [
    "Parmetro de entrada, numero de paginas que queremos descargarnos"
   ]
  },
  {
   "cell_type": "code",
   "execution_count": 2,
   "metadata": {},
   "outputs": [],
   "source": [
    "n_paginas_a_buscar = 100"
   ]
  },
  {
   "cell_type": "code",
   "execution_count": 3,
   "metadata": {},
   "outputs": [],
   "source": [
    "def load_data_web(n_paginas_a_buscar_elementos):\n",
    "    \"\"\"\n",
    "    Carga los datos de productos de un sitio web y los organiza en un DataFrame de pandas.\n",
    "\n",
    "    La función realiza la extracción de datos de productos desde varias páginas web especificadas.\n",
    "    Por cada página, realiza una solicitud HTTP, analiza el contenido HTML y extrae la información\n",
    "    de los productos, incluyendo el nombre, categoría, sección, descripción, dimensiones e imagen.\n",
    "    Los datos extraídos se concatenan en un único DataFrame.\n",
    "\n",
    "    Args:\n",
    "        n_paginas_a_buscar_elementos (int): El número de páginas web a recorrer para buscar productos.\n",
    "\n",
    "    Returns:\n",
    "        pandas.DataFrame: Un DataFrame que contiene la información de todos los productos extraídos,\n",
    "                          con columnas que incluyen nombre, categoría, sección, descripción, dimensiones e imagen.\n",
    "\n",
    "    Proceso:\n",
    "        1. Inicializa un DataFrame vacío para almacenar los datos extraídos.\n",
    "        2. Itera sobre el rango de páginas especificado para construir la URL y realizar una solicitud HTTP.\n",
    "        3. Analiza el contenido HTML utilizando BeautifulSoup para encontrar los productos.\n",
    "        4. Verifica si la lista de productos está vacía o si la solicitud falla (código de estado distinto de 200).\n",
    "           En caso de error, interrumpe el proceso.\n",
    "        5. Extrae los datos relevantes de cada producto y los almacena en un DataFrame.\n",
    "        6. Concatenación de los DataFrames de cada producto en un DataFrame acumulativo.\n",
    "        7. Devuelve el DataFrame final con todos los datos consolidados.\n",
    "\n",
    "    Excepciones:\n",
    "        - La función se interrumpe si no se encuentran productos en una página o si la solicitud HTTP falla,\n",
    "          mostrando un mensaje de error con el código de estado.\n",
    "\"\"\"\n",
    "    df_all = pd.DataFrame()\n",
    "\n",
    "    for pagina in range(1, (n_paginas_a_buscar_elementos + 1)):\n",
    "\n",
    "        url = f\"https://atrezzovazquez.es/shop.php?search_type=-1&search_terms=&limit=48&page={pagina}\"\n",
    "        url_imagen = \"https://atrezzovazquez.es/\"\n",
    "        url_no_imagen = \"https://atrezzovazquez.es/img/logo.png\"\n",
    "        res = requests.get(url)\n",
    "        \n",
    "        sopa = BeautifulSoup(res.content, \"html.parser\")\n",
    "        lista_productos = sopa.findAll(\"div\", {\"class\": \"col-md-3 col-sm-4 shop-grid-item\"} )\n",
    "\n",
    "        if len(lista_productos) == 0 or res.status_code != 200:\n",
    "                print(f\"codigo de error: {res.status_code} o lista de productos vacios.\")\n",
    "                break\n",
    "        else:\n",
    "\n",
    "            elementos = sopa.findAll(\"div\", {\"class\": \"col-md-3 col-sm-4 shop-grid-item\"})\n",
    "\n",
    "            for e in elementos:\n",
    "                ele = BeautifulSoup(str(e), \"html.parser\")\n",
    "                \n",
    "                nombre = sp.get_data_elemento_text(ele, 'a', 'class', 'title')\n",
    "                categoria = sp.get_data_elemento_text(ele, 'a', 'class', 'tag')\n",
    "                seccion = sp.get_data_elemento_text(ele, 'div', 'class', 'cat-sec')\n",
    "                descripcion = sp.get_data_elemento_text(ele, 'div', 'class', 'article-container style-1')\n",
    "                dimensiones = sp.get_data_elemento_text(ele, 'div', 'class', 'price')\n",
    "                imagen = sp.get_data_elemento_imagen(ele, 'src', url_imagen, url_no_imagen)\n",
    "\n",
    "                df_producto = sp.create_dataframe(nombre, categoria, seccion, descripcion, dimensiones, imagen)\n",
    "\n",
    "                df_all = pd.concat([df_all, df_producto])\n",
    "                df_all.reset_index(drop=True, inplace=True)\n",
    "        \n",
    "    return df_all"
   ]
  },
  {
   "cell_type": "markdown",
   "metadata": {},
   "source": [
    "Guardamos el dataframe resultante"
   ]
  },
  {
   "cell_type": "code",
   "execution_count": 4,
   "metadata": {},
   "outputs": [],
   "source": [
    "df_result = load_data_web(n_paginas_a_buscar)"
   ]
  },
  {
   "cell_type": "markdown",
   "metadata": {},
   "source": [
    "Imprimimos el numero de registros que tiene"
   ]
  },
  {
   "cell_type": "code",
   "execution_count": 5,
   "metadata": {},
   "outputs": [
    {
     "data": {
      "text/plain": [
       "4800"
      ]
     },
     "execution_count": 5,
     "metadata": {},
     "output_type": "execute_result"
    }
   ],
   "source": [
    "df_result.shape[0]"
   ]
  },
  {
   "cell_type": "markdown",
   "metadata": {},
   "source": [
    "Mostramos algunos"
   ]
  },
  {
   "cell_type": "code",
   "execution_count": 6,
   "metadata": {},
   "outputs": [
    {
     "data": {
      "text/html": [
       "<div>\n",
       "<style scoped>\n",
       "    .dataframe tbody tr th:only-of-type {\n",
       "        vertical-align: middle;\n",
       "    }\n",
       "\n",
       "    .dataframe tbody tr th {\n",
       "        vertical-align: top;\n",
       "    }\n",
       "\n",
       "    .dataframe thead th {\n",
       "        text-align: right;\n",
       "    }\n",
       "</style>\n",
       "<table border=\"1\" class=\"dataframe\">\n",
       "  <thead>\n",
       "    <tr style=\"text-align: right;\">\n",
       "      <th></th>\n",
       "      <th>nombre</th>\n",
       "      <th>categoria</th>\n",
       "      <th>seccion</th>\n",
       "      <th>descripcion</th>\n",
       "      <th>dimensiones</th>\n",
       "      <th>imagen</th>\n",
       "    </tr>\n",
       "  </thead>\n",
       "  <tbody>\n",
       "    <tr>\n",
       "      <th>3629</th>\n",
       "      <td>TYV43</td>\n",
       "      <td>Televisores y vídeos</td>\n",
       "      <td>Televisor</td>\n",
       "      <td>Televisión caja verde pistacho Electronic 24\"</td>\n",
       "      <td>53x33x52 (cm)</td>\n",
       "      <td>https://atrezzovazquez.es/admin/img_prod/TYV43...</td>\n",
       "    </tr>\n",
       "    <tr>\n",
       "      <th>341</th>\n",
       "      <td>JUE3</td>\n",
       "      <td>Juego</td>\n",
       "      <td>Casino</td>\n",
       "      <td>Mesa de Black Jack patas torneadas</td>\n",
       "      <td>158x84x77 (cm)</td>\n",
       "      <td>https://atrezzovazquez.es/admin/img_prod/JUE3/...</td>\n",
       "    </tr>\n",
       "    <tr>\n",
       "      <th>1997</th>\n",
       "      <td>CHI19</td>\n",
       "      <td>Chimenea</td>\n",
       "      <td>None</td>\n",
       "      <td>Pantalla de chimenea forja hierro calada 3 hojas.</td>\n",
       "      <td>110x2x69 (cm)</td>\n",
       "      <td>https://atrezzovazquez.es/admin/img_prod/CHI19...</td>\n",
       "    </tr>\n",
       "  </tbody>\n",
       "</table>\n",
       "</div>"
      ],
      "text/plain": [
       "     nombre             categoria    seccion  \\\n",
       "3629  TYV43  Televisores y vídeos  Televisor   \n",
       "341    JUE3                 Juego     Casino   \n",
       "1997  CHI19              Chimenea       None   \n",
       "\n",
       "                                            descripcion     dimensiones  \\\n",
       "3629      Televisión caja verde pistacho Electronic 24\"   53x33x52 (cm)   \n",
       "341                  Mesa de Black Jack patas torneadas  158x84x77 (cm)   \n",
       "1997  Pantalla de chimenea forja hierro calada 3 hojas.   110x2x69 (cm)   \n",
       "\n",
       "                                                 imagen  \n",
       "3629  https://atrezzovazquez.es/admin/img_prod/TYV43...  \n",
       "341   https://atrezzovazquez.es/admin/img_prod/JUE3/...  \n",
       "1997  https://atrezzovazquez.es/admin/img_prod/CHI19...  "
      ]
     },
     "execution_count": 6,
     "metadata": {},
     "output_type": "execute_result"
    }
   ],
   "source": [
    "df_result.sample(3)"
   ]
  },
  {
   "cell_type": "markdown",
   "metadata": {},
   "source": [
    "Salvamos los datos a un csv, para su posterior tratamiento."
   ]
  },
  {
   "cell_type": "code",
   "execution_count": 7,
   "metadata": {},
   "outputs": [],
   "source": [
    "df_result.to_csv(\"../datos/listado_productos.csv\")"
   ]
  }
 ],
 "metadata": {
  "kernelspec": {
   "display_name": "Python 3",
   "language": "python",
   "name": "python3"
  },
  "language_info": {
   "codemirror_mode": {
    "name": "ipython",
    "version": 3
   },
   "file_extension": ".py",
   "mimetype": "text/x-python",
   "name": "python",
   "nbconvert_exporter": "python",
   "pygments_lexer": "ipython3",
   "version": "3.12.5"
  }
 },
 "nbformat": 4,
 "nbformat_minor": 2
}
