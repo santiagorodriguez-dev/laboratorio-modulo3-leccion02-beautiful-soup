{
 "cells": [
  {
   "cell_type": "code",
   "execution_count": 41,
   "metadata": {},
   "outputs": [],
   "source": [
    "# Importamos las librerías que necesitamos\n",
    "\n",
    "# Librerías de extracción de datos\n",
    "# -----------------------------------------------------------------------\n",
    "from bs4 import BeautifulSoup\n",
    "import requests\n",
    "\n",
    "# Tratamiento de datos\n",
    "# -----------------------------------------------------------------------\n",
    "import pandas as pd\n",
    "import numpy as np"
   ]
  },
  {
   "cell_type": "code",
   "execution_count": 43,
   "metadata": {},
   "outputs": [
    {
     "name": "stdout",
     "output_type": "stream",
     "text": [
      "200\n",
      "{'nombre': 'ASP1', 'categoria': 'Aspiradoras', 'seccion': 'Electrodomestico\\xa0\\xa0', 'descripcion': 'Aspiradora antigua acero con bolsa corinto', 'dimensiones': '1x1x1 (cm)', 'imagen': 'https://atrezzovazquez.es/admin/img_prod/ASP1/ASP1-720x540.png'}\n",
      "200\n",
      "{'nombre': 'MV1', 'categoria': 'Muebles varios', 'seccion': 'Frances\\xa0\\xa0', 'descripcion': 'Chifonier francés caoba y bronce', 'dimensiones': '55x35x146 (cm)', 'imagen': 'https://atrezzovazquez.es/admin/img_prod/MV1/MV1-1-720x540.png'}\n"
     ]
    },
    {
     "data": {
      "text/html": [
       "<div>\n",
       "<style scoped>\n",
       "    .dataframe tbody tr th:only-of-type {\n",
       "        vertical-align: middle;\n",
       "    }\n",
       "\n",
       "    .dataframe tbody tr th {\n",
       "        vertical-align: top;\n",
       "    }\n",
       "\n",
       "    .dataframe thead th {\n",
       "        text-align: right;\n",
       "    }\n",
       "</style>\n",
       "<table border=\"1\" class=\"dataframe\">\n",
       "  <thead>\n",
       "    <tr style=\"text-align: right;\">\n",
       "      <th></th>\n",
       "    </tr>\n",
       "  </thead>\n",
       "  <tbody>\n",
       "  </tbody>\n",
       "</table>\n",
       "</div>"
      ],
      "text/plain": [
       "Empty DataFrame\n",
       "Columns: []\n",
       "Index: []"
      ]
     },
     "execution_count": 43,
     "metadata": {},
     "output_type": "execute_result"
    }
   ],
   "source": [
    "df_final = pd.DataFrame()\n",
    "\n",
    "for pagina in range(1, 3):\n",
    "    url = f\"https://atrezzovazquez.es/shop.php?search_type=-1&search_terms=&limit=48&page={pagina}\"\n",
    "    url_imagen = \"https://atrezzovazquez.es/\"\n",
    "    res = requests.get(url)\n",
    "    print(res.status_code)\n",
    "\n",
    "    # sacamos nombre zapatillas\n",
    "    sopa = BeautifulSoup(res.content, \"html.parser\")\n",
    "    lista_productos = sopa.findAll(\"div\", {\"class\": \"col-md-3 col-sm-4 shop-grid-item\"} )\n",
    "    if len(lista_productos) == 0:\n",
    "            break\n",
    "    else:\n",
    "\n",
    "        elemento = sopa.findAll(\"div\", {\"class\": \"col-md-3 col-sm-4 shop-grid-item\"})\n",
    "\n",
    "        for e in elemento:\n",
    "            ele = BeautifulSoup(str(e), \"html.parser\")\n",
    "            nombre = ele.findAll('a', {'class': 'title'})[0].getText()\n",
    "\n",
    "            for v in ele.findAll('a', {'class': 'tag'}):\n",
    "                categoria = v.getText()\n",
    " \n",
    "            for v in ele.findAll('div', {'class': 'cat-sec'}):\n",
    "                seccion = v.getText()\n",
    "\n",
    "\n",
    "            descripcion = ele.findAll('div', {'class': 'article-container style-1'})[0].getText().strip('\\n')\n",
    "            dimensiones = ele.findAll('div', {'class': 'price'})[0].getText().strip('\\n')\n",
    "            imagen = url_imagen\n",
    "            imagen = imagen + ele.findAll('img')[0].get('src')\n",
    "\n",
    "            dictionary_name = {\"nombre\": nombre,\n",
    "                               \"categoria\":categoria,\n",
    "                               \"seccion\":seccion,\n",
    "                               \"descripcion\":descripcion,\n",
    "                               \"dimensiones\":dimensiones,\n",
    "                               \"imagen\":imagen}\n",
    "            \n",
    "        print(dictionary_name)\n",
    "            \n",
    "        # df_zapatillas = pd.DataFrame({\"nombre_zapatillas\": nombre_zapatillas, \"imagen\": lista_imagenes, \"precio\": precio_zapatillas})\n",
    "        # df_final = pd.concat([df_final, df_zapatillas])\n",
    "\n",
    "df_final.head(2)\n",
    "\n",
    "df_final.head()\n"
   ]
  }
 ],
 "metadata": {
  "kernelspec": {
   "display_name": "Python 3",
   "language": "python",
   "name": "python3"
  },
  "language_info": {
   "codemirror_mode": {
    "name": "ipython",
    "version": 3
   },
   "file_extension": ".py",
   "mimetype": "text/x-python",
   "name": "python",
   "nbconvert_exporter": "python",
   "pygments_lexer": "ipython3",
   "version": "3.12.5"
  }
 },
 "nbformat": 4,
 "nbformat_minor": 2
}
